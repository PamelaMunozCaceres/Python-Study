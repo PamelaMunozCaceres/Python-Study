{
 "cells": [
  {
   "cell_type": "markdown",
   "metadata": {},
   "source": [
    "# Unit Testing"
   ]
  },
  {
   "cell_type": "markdown",
   "metadata": {},
   "source": [
    "Apuntes del curso *Unit Testing for Data Science in Python* de Datacamp (https://learn.datacamp.com/courses/unit-testing-for-data-science-in-python)"
   ]
  },
  {
   "cell_type": "markdown",
   "metadata": {},
   "source": [
    "Al momento de definir una función es necesario testear si funciona de la manera en que se espera. La forma habitual es entregar parametros a la función de manera manual, ejecutarla y reconocer si el resultado es correcto o no."
   ]
  },
  {
   "cell_type": "markdown",
   "metadata": {},
   "source": [
    "Lamentablemente, ese proceso es largo y por cada modificación que se hace a la función debiesemos volver a verificar que el resultado es lo que esperamos"
   ]
  },
  {
   "cell_type": "markdown",
   "metadata": {},
   "source": [
    "La idea detrás de los test unitarios es automatizar aquel proceso"
   ]
  },
  {
   "cell_type": "markdown",
   "metadata": {},
   "source": [
    "*** En este Jupyter notebook usaré una funcionalidad que me permite importar el código desde un archivo .py (%load filename.py)"
   ]
  },
  {
   "cell_type": "markdown",
   "metadata": {},
   "source": [
    "## 1- Conceptos básicos"
   ]
  },
  {
   "cell_type": "markdown",
   "metadata": {},
   "source": [
    "Hay mas de una libreria en Python que permite realizar tests:\n",
    "        - pytest\n",
    "        - unittest\n",
    "        - nosetest\n",
    "        - doctest"
   ]
  },
  {
   "cell_type": "markdown",
   "metadata": {},
   "source": [
    "La más popular es pytest."
   ]
  },
  {
   "cell_type": "markdown",
   "metadata": {},
   "source": [
    "1 -Para que pytest funcione, debemos crear un archivo .py que inicie con la palabra test_"
   ]
  },
  {
   "cell_type": "markdown",
   "metadata": {},
   "source": [
    "2- En ese archivo, importamos la libreria e importamos la función que necesitamos testear."
   ]
  },
  {
   "cell_type": "markdown",
   "metadata": {},
   "source": [
    "3- La función que se encarga de realizar el testeo tambien debe empezar con el nombre test_"
   ]
  },
  {
   "cell_type": "markdown",
   "metadata": {},
   "source": [
    "4- La verificación de que se cumple lo esperado se realiza mediante el statement assert"
   ]
  },
  {
   "cell_type": "markdown",
   "metadata": {},
   "source": [
    "Por ende el test_module.py queda de la siguiente forma:"
   ]
  },
  {
   "cell_type": "code",
   "execution_count": null,
   "metadata": {},
   "outputs": [],
   "source": [
    "# %load test_module.py\n",
    "import pytest\n",
    "from utils_module import function_1\n",
    "\n",
    "def test_first_function():\n",
    "    assert function_1 == 1\n",
    "    \n",
    "def test_first_function_bad():\n",
    "    assert function_1 == 0"
   ]
  },
  {
   "cell_type": "markdown",
   "metadata": {},
   "source": [
    "Mientras que la función se encuentra en *utils_module.py* y lo unico que retorna es 1"
   ]
  },
  {
   "cell_type": "code",
   "execution_count": null,
   "metadata": {},
   "outputs": [],
   "source": [
    "# %load utils_module.py\n",
    "def function_1():\n",
    "    return 1"
   ]
  },
  {
   "cell_type": "markdown",
   "metadata": {},
   "source": [
    "Para ejecutar los test debemos ingresar en la consola *pytest nombrearchivo.py*"
   ]
  },
  {
   "cell_type": "code",
   "execution_count": 20,
   "metadata": {},
   "outputs": [
    {
     "name": "stdout",
     "output_type": "stream",
     "text": [
      "============================= test session starts =============================\n",
      "platform win32 -- Python 3.8.3, pytest-5.4.3, py-1.9.0, pluggy-0.13.1\n",
      "rootdir: C:\\Users\\pamel\\Documents\\git\\Python-Study\\Unit testing\n",
      "collected 2 items\n",
      "\n",
      "test_module.py .F                                                        [100%]\n",
      "\n",
      "================================== FAILURES ===================================\n",
      "___________________________ test_first_function_bad ___________________________\n",
      "\n",
      "    def test_first_function_bad():\n",
      ">       assert function_1() == 0\n",
      "E       assert 1 == 0\n",
      "E        +  where 1 = function_1()\n",
      "\n",
      "test_module.py:8: AssertionError\n",
      "=========================== short test summary info ===========================\n",
      "FAILED test_module.py::test_first_function_bad - assert 1 == 0\n",
      "========================= 1 failed, 1 passed in 0.13s =========================\n"
     ]
    }
   ],
   "source": [
    "!pytest test_module.py"
   ]
  },
  {
   "cell_type": "markdown",
   "metadata": {},
   "source": [
    "Lo que obtenemos es el reporte de resultados del testeo"
   ]
  },
  {
   "cell_type": "markdown",
   "metadata": {},
   "source": [
    "La primera parte describe información del sistema, la vesión de Python, entre otros"
   ]
  },
  {
   "cell_type": "markdown",
   "metadata": {},
   "source": [
    "La segunda parte dice: *collected 2 items* esto quiere decir que hay 2 pruebas por hacer"
   ]
  },
  {
   "cell_type": "markdown",
   "metadata": {},
   "source": [
    "Luego, tenemos el nombre del modulo de testeo seguido por un *.F*"
   ]
  },
  {
   "cell_type": "markdown",
   "metadata": {},
   "source": [
    "La F inidica que hubo un fallo, es decir, que no se cumplió lo que se esperaba. de igual fomar, si la ejecución falla por cualquier otra razon, tambien devolverá que el test falló."
   ]
  },
  {
   "cell_type": "markdown",
   "metadata": {},
   "source": [
    "El punto indica que la prueba fue existosa, por eso recibimos un *.F* pues la primera prueba fue exitosa y la segunda no."
   ]
  },
  {
   "cell_type": "markdown",
   "metadata": {},
   "source": [
    "En la sección de FAILURES tenemos una vista más detallada de lo que no funcionó"
   ]
  },
  {
   "cell_type": "markdown",
   "metadata": {},
   "source": [
    "Finalmente la ultima sección nos entrega un sumario de la ejecución, incluyendo el tiempo que tomó y las pruebas que no pasaron"
   ]
  },
  {
   "cell_type": "markdown",
   "metadata": {},
   "source": [
    "### 1.1 Test como documentación"
   ]
  },
  {
   "cell_type": "markdown",
   "metadata": {},
   "source": [
    "Al tener pruebas programadas, tambien ayudamos a mejorar la documentación del sistema"
   ]
  },
  {
   "cell_type": "markdown",
   "metadata": {},
   "source": [
    "Para verificar los test asociados a un proyecto basta con usar el comando *cat nombrearchivo.py*"
   ]
  },
  {
   "cell_type": "markdown",
   "metadata": {},
   "source": [
    "En nuestro caso: (como es windows uso type en lugar de cat)"
   ]
  },
  {
   "cell_type": "code",
   "execution_count": 3,
   "metadata": {},
   "outputs": [
    {
     "name": "stdout",
     "output_type": "stream",
     "text": [
      "import pytest\n",
      "from utils_module import function_1\n",
      "\n",
      "def test_first_function():\n",
      "    assert function_1() == 1\n",
      "    \n",
      "def test_first_function_bad():\n",
      "    assert function_1() == 0\n"
     ]
    }
   ],
   "source": [
    "!type test_module.py"
   ]
  },
  {
   "cell_type": "markdown",
   "metadata": {},
   "source": [
    "### 1.2 Reducir el downtime"
   ]
  },
  {
   "cell_type": "markdown",
   "metadata": {},
   "source": [
    "Al hacer test podemos disminuir significativamente los errores en productivo"
   ]
  },
  {
   "cell_type": "markdown",
   "metadata": {},
   "source": [
    "Antes de enviar el codigo a los sistemas en producción podemos verificar si cumple los test y de no ser así rechazar los cambio y no cambiar los sistemas productivos, e incluso informar a los responsables que el codigo necesita modificaciones"
   ]
  },
  {
   "cell_type": "markdown",
   "metadata": {},
   "source": [
    "### 1.3 Tipos de test"
   ]
  },
  {
   "cell_type": "markdown",
   "metadata": {},
   "source": [
    "Unit test: verifican que una unidad este funcionando correctamente. Se conoce como una unidad a pequenas e independientes partes del codigo (puede ser una función o una clase)"
   ]
  },
  {
   "cell_type": "markdown",
   "metadata": {},
   "source": [
    "Integration test: chequean si múltiples unidades funcionan bien cuando estan conectadas"
   ]
  },
  {
   "cell_type": "markdown",
   "metadata": {},
   "source": [
    "End to End test: verifican que todo el software en su conjunto funcione de la manera esperada"
   ]
  }
 ],
 "metadata": {
  "kernelspec": {
   "display_name": "Python 3",
   "language": "python",
   "name": "python3"
  },
  "language_info": {
   "codemirror_mode": {
    "name": "ipython",
    "version": 3
   },
   "file_extension": ".py",
   "mimetype": "text/x-python",
   "name": "python",
   "nbconvert_exporter": "python",
   "pygments_lexer": "ipython3",
   "version": "3.8.3"
  }
 },
 "nbformat": 4,
 "nbformat_minor": 4
}
