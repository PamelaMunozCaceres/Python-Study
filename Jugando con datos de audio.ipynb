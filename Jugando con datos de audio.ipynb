{
 "cells": [
  {
   "cell_type": "markdown",
   "metadata": {},
   "source": [
    "# Jugando con datos de audio"
   ]
  },
  {
   "cell_type": "markdown",
   "metadata": {},
   "source": [
    "La idea de este jupyter es mostrar como cargar y visualizar datos de audio en Python"
   ]
  },
  {
   "cell_type": "markdown",
   "metadata": {},
   "source": [
    "Para hacer esto utilizaremos la libreria librosa https://anaconda.org/conda-forge/librosa"
   ]
  },
  {
   "cell_type": "markdown",
   "metadata": {},
   "source": [
    "Y tambien usaremos los datos disponibles en Kaggle de sonidos de gatos y perros https://www.kaggle.com/mmoreaux/audio-cats-and-dogs"
   ]
  },
  {
   "cell_type": "code",
   "execution_count": 1,
   "metadata": {},
   "outputs": [],
   "source": [
    "import librosa as lr\n",
    "import numpy as np\n",
    "import matplotlib.pyplot as plt"
   ]
  },
  {
   "cell_type": "markdown",
   "metadata": {},
   "source": [
    "### 1- Cargando datos"
   ]
  },
  {
   "cell_type": "markdown",
   "metadata": {},
   "source": [
    "Lo primero que haremos sera importar solo un archivo de datos. Cuando cargamos un archivo con librosa nos devuelve dos variables"
   ]
  },
  {
   "cell_type": "code",
   "execution_count": 2,
   "metadata": {},
   "outputs": [
    {
     "name": "stdout",
     "output_type": "stream",
     "text": [
      "[ 0.00381674  0.00407222  0.00156718 ... -0.0146927  -0.01779636\n",
      " -0.01206966]\n",
      "22050\n"
     ]
    }
   ],
   "source": [
    "audio, sfreq = lr.load(\"datasets/cats_dogs/cats_dogs/cat_1.wav\")\n",
    "print(audio)\n",
    "print(sfreq)"
   ]
  },
  {
   "cell_type": "markdown",
   "metadata": {},
   "source": [
    "La primera variable es un array que tiene las muestras de amplitud o cambios de presion en el audio, si esta variabe tuviese mas de dos dimensiones es que se trata de un audio de más de un canal"
   ]
  },
  {
   "cell_type": "markdown",
   "metadata": {},
   "source": [
    "La segunda variable es el numero de respuestas guardadas por segundo. En este caso tenemos 22050 registros por segundo"
   ]
  },
  {
   "cell_type": "markdown",
   "metadata": {},
   "source": [
    "### 2. Graficando el audio"
   ]
  },
  {
   "cell_type": "markdown",
   "metadata": {},
   "source": [
    "Como sabemos el numero de datos por segundo, y asumiendo que no existen datos faltantes entre medio, podemos ordenar los datos en funión del tiempo"
   ]
  },
  {
   "cell_type": "code",
   "execution_count": 3,
   "metadata": {},
   "outputs": [
    {
     "data": {
      "text/plain": [
       "[<matplotlib.lines.Line2D at 0x1d4fa605e10>]"
      ]
     },
     "execution_count": 3,
     "metadata": {},
     "output_type": "execute_result"
    },
    {
     "data": {
      "image/png": "[encoded data removed]",
      "text/plain": [
       "<Figure size 432x288 with 1 Axes>"
      ]
     },
     "metadata": {
      "needs_background": "light"
     },
     "output_type": "display_data"
    }
   ],
   "source": [
    "# Array de 0 al largo del vector audio\n",
    "ixs = np.arange(audio.shape[-1])\n",
    "# Array de tiempos\n",
    "tiempo = ixs / sfreq\n",
    "\n",
    "fig, ax = plt.subplots()\n",
    "ax.plot(tiempo, audio)"
   ]
  },
  {
   "cell_type": "code",
   "execution_count": null,
   "metadata": {},
   "outputs": [],
   "source": []
  }
 ],
 "metadata": {
  "kernelspec": {
   "display_name": "Python 3",
   "language": "python",
   "name": "python3"
  },
  "language_info": {
   "codemirror_mode": {
    "name": "ipython",
    "version": 3
   },
   "file_extension": ".py",
   "mimetype": "text/x-python",
   "name": "python",
   "nbconvert_exporter": "python",
   "pygments_lexer": "ipython3",
   "version": "3.7.1"
  }
 },
 "nbformat": 4,
 "nbformat_minor": 2
}
