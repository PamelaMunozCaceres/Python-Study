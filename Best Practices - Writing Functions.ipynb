{
 "cells": [
  {
   "cell_type": "markdown",
   "metadata": {},
   "source": [
    "# Buenas practicas - Escribiendo funciones"
   ]
  },
  {
   "cell_type": "markdown",
   "metadata": {},
   "source": [
    "Apunte del curso de Datacamp writing-functions-in-python (https://learn.datacamp.com/courses/writing-functions-in-python)"
   ]
  },
  {
   "cell_type": "markdown",
   "metadata": {},
   "source": [
    "## 1 - Buenas practicas"
   ]
  },
  {
   "cell_type": "markdown",
   "metadata": {},
   "source": [
    "### 1.1- Docstring"
   ]
  },
  {
   "cell_type": "markdown",
   "metadata": {},
   "source": [
    "Los docstring son para que el código que se escribe sea más entedible para otros usuarios, lo primordial es que incluya una descripción de lo que hace la función."
   ]
  },
  {
   "cell_type": "markdown",
   "metadata": {},
   "source": [
    "Usalmente pueden incluir los siguientes elementos:\n",
    "    - Descripción de lo que hace la función\n",
    "    - Descripción de los argumentos de la función (si es que tiene)\n",
    "    - Descripción del valor que retorna la función (si es que tiene)\n",
    "    - Descripción de los errores que levanta la función (si es que tiene)\n",
    "    - Notas opcionales o ejemplos"
   ]
  },
  {
   "cell_type": "markdown",
   "metadata": {},
   "source": [
    "Existen varios formatos de Docstring, sin embargo, aca usaré el de numpy"
   ]
  },
  {
   "cell_type": "markdown",
   "metadata": {},
   "source": [
    "Creemos una función que elimina duplicados, ordena el dataframe y luego resetea el indice, todo en función de una columna."
   ]
  },
  {
   "cell_type": "code",
   "execution_count": 9,
   "metadata": {},
   "outputs": [],
   "source": [
    "def new_order(df, column_name):\n",
    "    '''\n",
    "    Set a new order in the daframe without duplicates.\n",
    "    First it deletes duplicates for a column, then sort\n",
    "    the dataframe ascending whit this column, and finally\n",
    "    set a new order index.\n",
    "    \n",
    "    Parameters\n",
    "    ----------\n",
    "    df: DataFrame\n",
    "        the dataframe we want to order\n",
    "    column_name: str\n",
    "        the name of the column we want to sort\n",
    "    \n",
    "    Returns\n",
    "    -------\n",
    "    Dataframe\n",
    "        the resulting dataframe\n",
    "        \n",
    "    '''\n",
    "    new_df = df.drop_duplicates(subset=[column_name])\n",
    "    new_df.sort_values(by=column_name, inplace=True)\n",
    "    new_df.reset_index(inplace=True, drop=True)\n",
    "\n",
    "    return new_df"
   ]
  },
  {
   "cell_type": "markdown",
   "metadata": {},
   "source": [
    "Podemos acceder al docstring de la función de la siguente forma usando la consola:"
   ]
  },
  {
   "cell_type": "code",
   "execution_count": 10,
   "metadata": {},
   "outputs": [
    {
     "name": "stdout",
     "output_type": "stream",
     "text": [
      "\n",
      "    Set a new order in the daframe without duplicates.\n",
      "    First it deletes duplicates for a column, then sort\n",
      "    the dataframe ascending whit this column, and finally\n",
      "    set a new order index.\n",
      "    \n",
      "    Parameters\n",
      "    ----------\n",
      "    df: DataFrame\n",
      "        the dataframe we want to order\n",
      "    column_name: str\n",
      "        the name of the column we want to sort\n",
      "    \n",
      "    Returns\n",
      "    -------\n",
      "    Dataframe\n",
      "        the resulting dataframe\n",
      "        \n",
      "    \n"
     ]
    }
   ],
   "source": [
    "print(new_order.__doc__)"
   ]
  },
  {
   "cell_type": "markdown",
   "metadata": {},
   "source": [
    "Aunque para evitar que tenga ese formato, podemos usar el modulo inspect"
   ]
  },
  {
   "cell_type": "code",
   "execution_count": 11,
   "metadata": {},
   "outputs": [
    {
     "name": "stdout",
     "output_type": "stream",
     "text": [
      "Set a new order in the daframe without duplicates.\n",
      "First it deletes duplicates for a column, then sort\n",
      "the dataframe ascending whit this column, and finally\n",
      "set a new order index.\n",
      "\n",
      "Parameters\n",
      "----------\n",
      "df: DataFrame\n",
      "    the dataframe we want to order\n",
      "column_name: str\n",
      "    the name of the column we want to sort\n",
      "\n",
      "Returns\n",
      "-------\n",
      "Dataframe\n",
      "    the resulting dataframe\n",
      "    \n"
     ]
    }
   ],
   "source": [
    "import inspect\n",
    "\n",
    "print(inspect.getdoc(new_order))"
   ]
  },
  {
   "cell_type": "markdown",
   "metadata": {},
   "source": [
    "### 1.2- No te repitas a ti mismo"
   ]
  },
  {
   "cell_type": "markdown",
   "metadata": {},
   "source": [
    "Si varios grupos de lineas de código hace lo mismo es momento de crear una función"
   ]
  },
  {
   "cell_type": "markdown",
   "metadata": {},
   "source": [
    "Supongamos quiero crear 3 dataframe con valores aleatorios para un rango de fechas. La mala forma seria asi:"
   ]
  },
  {
   "cell_type": "code",
   "execution_count": 24,
   "metadata": {},
   "outputs": [],
   "source": [
    "import pandas as pd\n",
    "from random import randint\n",
    "\n",
    "df_1= pd.DataFrame(pd.date_range(start='2018-04-24',\n",
    "                                 end='2018-04-27', periods=200),\n",
    "                   columns=[\"Date\"])\n",
    "df_1['value'] = [randint(0, 10) for i in range(len(df_1))]\n",
    "\n",
    "df_2= pd.DataFrame(pd.date_range(start='2019-04-24',\n",
    "                                 end='2019-04-27', periods=100),\n",
    "                   columns=[\"Date\"])\n",
    "df_2['value'] = [randint(0, 10) for i in range(len(df_2))]\n",
    "\n",
    "df_3= pd.DataFrame(pd.date_range(start='2020-04-24',\n",
    "                                 end='2020-04-27', periods=300),\n",
    "                   columns=[\"Date\"])\n",
    "df_3['value'] = [randint(0, 10) for i in range(len(df_3))]"
   ]
  },
  {
   "cell_type": "markdown",
   "metadata": {},
   "source": [
    "Sin embargo, mucho codigo se reutiliza, por lo que en su lugar, podemos escribir una función de la siguiente forma"
   ]
  },
  {
   "cell_type": "code",
   "execution_count": 25,
   "metadata": {},
   "outputs": [],
   "source": [
    "def random_timeserie_df(start_date, end_date, periods, random_tuple):\n",
    "    '''\n",
    "    Creates a dataframe with a column in datetime format and\n",
    "    a random column in int format\n",
    "    \n",
    "    Parameters\n",
    "    ----------\n",
    "    start_date: str\n",
    "        The first date in the dataframe\n",
    "    end_date: str\n",
    "        The last date in the dataframe\n",
    "    periods: int\n",
    "        The number of dates in the dataframe (the len of the dataframe)\n",
    "    random_tuple: tuple\n",
    "        The min and max value of random values\n",
    "\n",
    "    Returns\n",
    "    -------\n",
    "    Dataframe\n",
    "        the resulting dataframe\n",
    "        \n",
    "    '''\n",
    "    df= pd.DataFrame(pd.date_range(start=start_date,\n",
    "                                   end=end_date, periods=periods),\n",
    "                     columns=[\"Date\"])\n",
    "    df['value'] = [randint(random_tuple[0], random_tuple[1]) for i in range(len(df))]\n",
    "    \n",
    "    return df\n",
    "    "
   ]
  },
  {
   "cell_type": "markdown",
   "metadata": {},
   "source": [
    "Ahora los mismos dataframe se generan de la siguiente forma:"
   ]
  },
  {
   "cell_type": "code",
   "execution_count": 26,
   "metadata": {},
   "outputs": [],
   "source": [
    "df_1 = random_timeserie_df('2018-04-24', '2018-04-27', 200, (0, 10))\n",
    "df_2 = random_timeserie_df('2019-04-24', '2019-04-27', 100, (0, 10))\n",
    "df_3 = random_timeserie_df('2020-04-24', '2020-04-27', 300, (0, 10))"
   ]
  },
  {
   "cell_type": "markdown",
   "metadata": {},
   "source": [
    " ### 1.3- Haz solo una cosa"
   ]
  },
  {
   "cell_type": "markdown",
   "metadata": {},
   "source": [
    "Una buena practica es que las funciones hagan solo una cosa, si la funcion puede dividirse en etapas, mejor dividirla en varias funciones"
   ]
  },
  {
   "cell_type": "markdown",
   "metadata": {},
   "source": [
    "Por ejemplo, si quiesieramos que la funcion anterior ademas graficara los datos estariamos incumpliendo la regla, porque además de crearlos tendría q graficarlos. En su lugar, podemo agregar otra funcion que lo haga."
   ]
  },
  {
   "cell_type": "code",
   "execution_count": 37,
   "metadata": {},
   "outputs": [],
   "source": [
    "import matplotlib.pyplot as plt\n",
    "\n",
    "\n",
    "def plot_data(df):\n",
    "    '''\n",
    "    Plot data\n",
    "    '''\n",
    "    fig, ax = plt.subplots(figsize=(15, 5))\n",
    "    ax.plot(df['Date'], df['value'])\n",
    "    plt.show()"
   ]
  },
  {
   "cell_type": "markdown",
   "metadata": {},
   "source": [
    "Ahora en la ejecución invocamos a ambas funciones"
   ]
  },
  {
   "cell_type": "code",
   "execution_count": 42,
   "metadata": {},
   "outputs": [
    {
     "data": {
      "image/png": "[encoded data removed]",
      "text/plain": [
       "<Figure size 1080x360 with 1 Axes>"
      ]
     },
     "metadata": {
      "needs_background": "light"
     },
     "output_type": "display_data"
    }
   ],
   "source": [
    "df_4 = random_timeserie_df('2021-04-24', '2021-04-27', 250, (0, 20))\n",
    "plot_data(df_4)"
   ]
  },
  {
   "cell_type": "markdown",
   "metadata": {},
   "source": [
    "### 1.4 Pasando argumentos"
   ]
  },
  {
   "cell_type": "markdown",
   "metadata": {},
   "source": [
    "Si creamos una función de esta forma"
   ]
  },
  {
   "cell_type": "code",
   "execution_count": 2,
   "metadata": {},
   "outputs": [
    {
     "name": "stdout",
     "output_type": "stream",
     "text": [
      "[99, 2, 3]\n"
     ]
    }
   ],
   "source": [
    "def foo(x):\n",
    "    x[0] = 99\n",
    "    \n",
    "my_list = [1, 2, 3]\n",
    "foo(my_list)\n",
    "print(my_list)"
   ]
  },
  {
   "cell_type": "markdown",
   "metadata": {},
   "source": [
    "Las listas son objetos que pueden cambiar"
   ]
  },
  {
   "cell_type": "code",
   "execution_count": 3,
   "metadata": {},
   "outputs": [
    {
     "name": "stdout",
     "output_type": "stream",
     "text": [
      "3\n"
     ]
    }
   ],
   "source": [
    "def bar(x):\n",
    "    x = x + 90\n",
    "\n",
    "my_var = 3\n",
    "bar(my_var)\n",
    "print(my_var)"
   ]
  },
  {
   "cell_type": "markdown",
   "metadata": {},
   "source": [
    "Los enteros son objetos inmutables, es decir, no pueden cambiar"
   ]
  },
  {
   "cell_type": "markdown",
   "metadata": {},
   "source": [
    "La única forma de saber si algo es mutable o inmutables, es encontrando una función o método que sea capaz de cambiarlo sin asignarlo a una nueva variable."
   ]
  },
  {
   "cell_type": "markdown",
   "metadata": {},
   "source": [
    "Lista de inmutables:\n",
    " - int\n",
    " - float\n",
    " - bool\n",
    " - string\n",
    " - bytes\n",
    " - tuple\n",
    " - frozenset\n",
    " - None"
   ]
  },
  {
   "cell_type": "markdown",
   "metadata": {},
   "source": [
    "Practicamente todo lo demás es mutable"
   ]
  },
  {
   "cell_type": "markdown",
   "metadata": {},
   "source": [
    "Si queremos usar valores por defecto que sean mutables, es mejor, indicarlos como None y crearlos en la propia función. Vease el ejemplo a continuación:"
   ]
  },
  {
   "cell_type": "code",
   "execution_count": 7,
   "metadata": {},
   "outputs": [
    {
     "data": {
      "text/plain": [
       "[0]"
      ]
     },
     "execution_count": 7,
     "metadata": {},
     "output_type": "execute_result"
    }
   ],
   "source": [
    "def foo(x=[]):\n",
    "    x.append(0)\n",
    "    return x\n",
    "\n",
    "foo()"
   ]
  },
  {
   "cell_type": "code",
   "execution_count": 8,
   "metadata": {},
   "outputs": [
    {
     "data": {
      "text/plain": [
       "[0, 0]"
      ]
     },
     "execution_count": 8,
     "metadata": {},
     "output_type": "execute_result"
    }
   ],
   "source": [
    "foo()"
   ]
  },
  {
   "cell_type": "markdown",
   "metadata": {},
   "source": [
    "En el segundo llamado a la función el valor por defecto ya ha sido modificado. Para que eso no suceda, es mejor escribir la función de la siguiente forma"
   ]
  },
  {
   "cell_type": "code",
   "execution_count": 12,
   "metadata": {},
   "outputs": [
    {
     "data": {
      "text/plain": [
       "[0]"
      ]
     },
     "execution_count": 12,
     "metadata": {},
     "output_type": "execute_result"
    }
   ],
   "source": [
    "def foo(x=None):\n",
    "    if x is None:\n",
    "        x = []\n",
    "    x.append(0)\n",
    "    return x\n",
    "\n",
    "foo()"
   ]
  },
  {
   "cell_type": "code",
   "execution_count": 13,
   "metadata": {},
   "outputs": [
    {
     "data": {
      "text/plain": [
       "[0]"
      ]
     },
     "execution_count": 13,
     "metadata": {},
     "output_type": "execute_result"
    }
   ],
   "source": [
    "foo()"
   ]
  },
  {
   "cell_type": "markdown",
   "metadata": {},
   "source": [
    "## 2- Context Managers"
   ]
  },
  {
   "cell_type": "markdown",
   "metadata": {},
   "source": [
    "Son un tipo de función que fija un contexto en el que se ejecuta el codigo y luego de eso remueve el contexto"
   ]
  },
  {
   "cell_type": "markdown",
   "metadata": {},
   "source": [
    "La función open() es un context manager"
   ]
  },
  {
   "cell_type": "code",
   "execution_count": 4,
   "metadata": {},
   "outputs": [
    {
     "name": "stdout",
     "output_type": "stream",
     "text": [
      "Hello World!\n"
     ]
    }
   ],
   "source": [
    "with open(\"test_file.txt\", \"r\") as file:\n",
    "    print(file.read())"
   ]
  },
  {
   "cell_type": "markdown",
   "metadata": {},
   "source": [
    "Todos los context manager parte con un with"
   ]
  },
  {
   "cell_type": "markdown",
   "metadata": {},
   "source": [
    "### 2.1- Creando context managers"
   ]
  },
  {
   "cell_type": "markdown",
   "metadata": {},
   "source": [
    "Hay dos formas de definir un context manager:\n",
    "    - Usando una clase que tenga los métodos __enter__() y __exit__()\n",
    "    - Con ciertas funciones"
   ]
  },
  {
   "cell_type": "markdown",
   "metadata": {},
   "source": [
    "Para crear un context manager con funciones se debe:\n",
    "    - 1- Definir la función\n",
    "    - 2- Agregar el codigo que se necesite (opcional)\n",
    "    - 3- Agregar *yield*\n",
    "    - 4- Luego de \"yield\" se puede agregar lo que se necesite con tal de eliminar el contexto\n",
    "    - 5- Se debe agregar el decorador @contextlib.contextmanager"
   ]
  },
  {
   "cell_type": "markdown",
   "metadata": {},
   "source": [
    "Agregar yield a la función es una forma de indicar que a pesar de que vas a retornar un valor, quieres que la función continue hasta terminar en algun punto en el futuro"
   ]
  },
  {
   "cell_type": "code",
   "execution_count": 7,
   "metadata": {},
   "outputs": [
    {
     "name": "stdout",
     "output_type": "stream",
     "text": [
      "hello\n",
      "here I am\n",
      "still alive\n"
     ]
    }
   ],
   "source": [
    "from contextlib import contextmanager\n",
    "\n",
    "@contextmanager\n",
    "def my_context():\n",
    "    print(\"hello\")\n",
    "    yield \"here I am\"\n",
    "    print(\"still alive\")\n",
    "\n",
    "with my_context() as test:\n",
    "    print(test)"
   ]
  },
  {
   "cell_type": "markdown",
   "metadata": {},
   "source": [
    "### 2.2 Context managers anidados"
   ]
  },
  {
   "cell_type": "markdown",
   "metadata": {},
   "source": [
    "Podemos abrir dos contextos diferentes uno dentro de otro. Por ejemplo, si necesitamos copiar un archivo dentro de otro, lo podemos lograr de la siguiente forma:"
   ]
  },
  {
   "cell_type": "code",
   "execution_count": 2,
   "metadata": {},
   "outputs": [
    {
     "name": "stdout",
     "output_type": "stream",
     "text": [
      "Hello World!\n"
     ]
    }
   ],
   "source": [
    "def copy(src, dest):\n",
    "    \"\"\"\n",
    "    Copy the contents of one file to another.\n",
    "    \n",
    "    Parameters\n",
    "    ----------\n",
    "    src: str\n",
    "        Filename of the file to be copied\n",
    "    dest: str\n",
    "        Where to write the new file.\n",
    "    \"\"\"\n",
    "    # Open both files\n",
    "    with open(src, \"r\") as file_src:\n",
    "        with open(dest, \"w\") as file_dts:\n",
    "            for line in file_src:\n",
    "                file_dts.write(line)\n",
    "\n",
    "# Copy file                \n",
    "copy(\"test_file.txt\", \"test_file2.txt\")\n",
    "# Read new file\n",
    "with open(\"test_file2.txt\", \"r\") as file:\n",
    "    print(file.read())"
   ]
  },
  {
   "cell_type": "markdown",
   "metadata": {},
   "source": [
    "### 2.3- Handling errors"
   ]
  },
  {
   "cell_type": "markdown",
   "metadata": {},
   "source": [
    "Para manejar los errores podemos utilizar un try block, con esto podemos capturar el error e incluso agregar un bloque final (finally) que se ejecutará si es que nada de lo anterior funcionó."
   ]
  },
  {
   "cell_type": "markdown",
   "metadata": {},
   "source": [
    "¿Qué pasa en el caso de que la función falla antes del yield statement y necesitamos que de igual forma termine la ejecución? "
   ]
  },
  {
   "cell_type": "markdown",
   "metadata": {},
   "source": [
    "Imaginemos queremos enviar un nuevo registro a un set de datos, pero sino funciona, de todas formas queremos dejar el registro de manera local."
   ]
  },
  {
   "cell_type": "markdown",
   "metadata": {},
   "source": [
    "Creamos una función que trata de agregar el registro (va a fallar porque la función que invocará no esta definida) y de todas formas agregaráa los registros en otro archivo de texto."
   ]
  },
  {
   "cell_type": "code",
   "execution_count": 8,
   "metadata": {},
   "outputs": [
    {
     "name": "stdout",
     "output_type": "stream",
     "text": [
      "function not defined\n",
      "function not defined\n",
      "function not defined\n",
      "\n",
      "pamela, test1\n",
      "pamela, test2\n",
      "pamela, test3\n"
     ]
    }
   ],
   "source": [
    "def send_data(user, action):\n",
    "    \"\"\"\n",
    "    Send data to register.\n",
    "    \n",
    "    Parameters\n",
    "    ----------\n",
    "    user: str\n",
    "        Username\n",
    "    action: str\n",
    "        Action performed by the user\n",
    "    \"\"\"\n",
    "    try:\n",
    "        add_register(user, action)\n",
    "    except NameError:\n",
    "        print(\"function not defined\")\n",
    "    # it will run even if the above is successful or not\n",
    "    finally:\n",
    "        with open(\"test_file.txt\", \"a\") as file:\n",
    "            file.write(f\"\\n{user}, {action}\")\n",
    "\n",
    "send_data('pamela', 'test1')            \n",
    "send_data('pamela', 'test2')            \n",
    "send_data('pamela', 'test3')            \n",
    "\n",
    "with open(\"test_file.txt\", \"r\") as file:\n",
    "    print(file.read())"
   ]
  }
 ],
 "metadata": {
  "kernelspec": {
   "display_name": "Python 3",
   "language": "python",
   "name": "python3"
  },
  "language_info": {
   "codemirror_mode": {
    "name": "ipython",
    "version": 3
   },
   "file_extension": ".py",
   "mimetype": "text/x-python",
   "name": "python",
   "nbconvert_exporter": "python",
   "pygments_lexer": "ipython3",
   "version": "3.8.3"
  }
 },
 "nbformat": 4,
 "nbformat_minor": 4
}
