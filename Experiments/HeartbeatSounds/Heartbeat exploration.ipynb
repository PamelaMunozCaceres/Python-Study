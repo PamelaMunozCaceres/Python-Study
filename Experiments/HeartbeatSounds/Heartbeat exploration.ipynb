{
 "cells": [
  {
   "cell_type": "markdown",
   "metadata": {},
   "source": [
    "# Heartbeat Sounds"
   ]
  },
  {
   "cell_type": "markdown",
   "metadata": {},
   "source": [
    "El objetivo es poder cargar y analizar datos de latidos de corazon"
   ]
  },
  {
   "cell_type": "markdown",
   "metadata": {},
   "source": [
    "## 1- Load Data"
   ]
  },
  {
   "cell_type": "markdown",
   "metadata": {},
   "source": [
    "Esta primera parte esta basada en el notebook de kaggle de Ed King (https://www.kaggle.com/kinguistics/loading-and-manipulating-heartbeat-audio)"
   ]
  },
  {
   "cell_type": "code",
   "execution_count": 8,
   "metadata": {},
   "outputs": [],
   "source": [
    "import wave\n",
    "\n",
    "FNAME = 'Datasets/set_b/normal__300_1311772096120_C1.wav'\n",
    "\n",
    "# Open file\n",
    "f = wave.open(FNAME)\n",
    "\n",
    "# Read file\n",
    "frames = f.readframes(-1)"
   ]
  },
  {
   "cell_type": "code",
   "execution_count": 9,
   "metadata": {},
   "outputs": [],
   "source": [
    "import struct\n",
    "samples = struct.unpack('h'*f.getnframes(), frames)"
   ]
  },
  {
   "cell_type": "code",
   "execution_count": 10,
   "metadata": {},
   "outputs": [],
   "source": [
    "framerate = f.getframerate()\n",
    "t = [float(i)/framerate for i in range(len(samples))]"
   ]
  },
  {
   "cell_type": "code",
   "execution_count": 7,
   "metadata": {},
   "outputs": [
    {
     "data": {
      "text/plain": [
       "[<matplotlib.lines.Line2D at 0x2ba8757e070>]"
      ]
     },
     "execution_count": 7,
     "metadata": {},
     "output_type": "execute_result"
    },
    {
     "data": {
      "image/png": "[encoded data removed]",
      "text/plain": [
       "<Figure size 432x288 with 1 Axes>"
      ]
     },
     "metadata": {
      "needs_background": "light"
     },
     "output_type": "display_data"
    }
   ],
   "source": [
    "from pylab import *\n",
    "plot(t, samples)"
   ]
  },
  {
   "cell_type": "code",
   "execution_count": 18,
   "metadata": {},
   "outputs": [
    {
     "data": {
      "text/plain": [
       "array([[ 0.00000e+00,  2.50000e-04,  5.00000e-04, ...,  5.41025e+00,\n",
       "         5.41050e+00,  5.41075e+00],\n",
       "       [ 9.30000e+01,  1.00000e+01,  2.90000e+02, ..., -3.68000e+02,\n",
       "        -4.06000e+02, -2.00000e+00]])"
      ]
     },
     "execution_count": 18,
     "metadata": {},
     "output_type": "execute_result"
    }
   ],
   "source": [
    "import numpy as np\n",
    "\n",
    "# Transform to array\n",
    "np.array([t, samples])"
   ]
  },
  {
   "cell_type": "markdown",
   "metadata": {},
   "source": [
    "Ahora leemos y guardamos todos los archivos de audio"
   ]
  },
  {
   "cell_type": "code",
   "execution_count": 26,
   "metadata": {},
   "outputs": [
    {
     "data": {
      "application/vnd.jupyter.widget-view+json": {
       "model_id": "ce847ee485a2449f8a61c8c71ab8e1af",
       "version_major": 2,
       "version_minor": 0
      },
      "text/plain": [
       "HBox(children=(FloatProgress(value=0.0, max=320.0), HTML(value='')))"
      ]
     },
     "metadata": {},
     "output_type": "display_data"
    },
    {
     "name": "stdout",
     "output_type": "stream",
     "text": [
      "\n"
     ]
    }
   ],
   "source": [
    "import glob\n",
    "import wave\n",
    "import struct\n",
    "from tqdm.notebook import tqdm\n",
    "\n",
    "files = glob.glob('Datasets/set_b/normal*')\n",
    "\n",
    "files_ = []\n",
    "\n",
    "for file in tqdm(files):\n",
    "    f = wave.open(file)\n",
    "    frames = f.readframes(-1)\n",
    "    samples = struct.unpack('h'*f.getnframes(), frames)\n",
    "    framerate = f.getframerate()\n",
    "    t = [float(i)/framerate for i in range(len(samples))]\n",
    "    array = np.array([t, samples])\n",
    "    files_.append(array)\n",
    "    "
   ]
  },
  {
   "cell_type": "markdown",
   "metadata": {},
   "source": [
    "### 2- Data exploration"
   ]
  },
  {
   "cell_type": "code",
   "execution_count": null,
   "metadata": {},
   "outputs": [],
   "source": [
    "import matplotlib.pyplot as pl\n",
    "\n",
    "fig, ax = plt.subplots()\n"
   ]
  }
 ],
 "metadata": {
  "kernelspec": {
   "display_name": "Python 3",
   "language": "python",
   "name": "python3"
  },
  "language_info": {
   "codemirror_mode": {
    "name": "ipython",
    "version": 3
   },
   "file_extension": ".py",
   "mimetype": "text/x-python",
   "name": "python",
   "nbconvert_exporter": "python",
   "pygments_lexer": "ipython3",
   "version": "3.8.3"
  }
 },
 "nbformat": 4,
 "nbformat_minor": 4
}
