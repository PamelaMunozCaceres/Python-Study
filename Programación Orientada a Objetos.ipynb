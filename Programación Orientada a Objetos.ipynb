{
 "cells": [
  {
   "cell_type": "markdown",
   "metadata": {},
   "source": [
    "# Programación Orientada a Objetos en Python"
   ]
  },
  {
   "cell_type": "markdown",
   "metadata": {},
   "source": [
    "Una de las ventajas de escribir codigo orientado a objetos es que es reutilizable y por ende ideal para construir un framework o un set de herramietas"
   ]
  },
  {
   "cell_type": "markdown",
   "metadata": {},
   "source": [
    "### ¿Qué es una objeto?"
   ]
  },
  {
   "cell_type": "markdown",
   "metadata": {},
   "source": [
    "Los objetos son una entidad que tiene un estado y un comportamiento particular"
   ]
  },
  {
   "cell_type": "markdown",
   "metadata": {},
   "source": [
    "### ¿Qué es una clase?"
   ]
  },
  {
   "cell_type": "markdown",
   "metadata": {},
   "source": [
    "Las clases describen posibles estados de un objeto y sus distintos comportamientos"
   ]
  },
  {
   "cell_type": "markdown",
   "metadata": {},
   "source": [
    "## Manos al codigo"
   ]
  },
  {
   "cell_type": "markdown",
   "metadata": {},
   "source": [
    "### 1- Mi primera clase"
   ]
  },
  {
   "cell_type": "markdown",
   "metadata": {},
   "source": [
    "Las clases se definen con la palabra class"
   ]
  },
  {
   "cell_type": "markdown",
   "metadata": {},
   "source": [
    "Los metodos dentro de las clases llevan el argumento self SIEMPRE como primer argumento"
   ]
  },
  {
   "cell_type": "code",
   "execution_count": 1,
   "metadata": {},
   "outputs": [],
   "source": [
    "class MiPrimeraClase:\n",
    "    \n",
    "    def saluda(self):\n",
    "        print(\"Hola Mundo\")"
   ]
  },
  {
   "cell_type": "markdown",
   "metadata": {},
   "source": [
    "Para llamar a la clase simplemente usamos el nombre de esta y se lo asignamos a una variable"
   ]
  },
  {
   "cell_type": "code",
   "execution_count": 2,
   "metadata": {},
   "outputs": [
    {
     "name": "stdout",
     "output_type": "stream",
     "text": [
      "Hola Mundo\n"
     ]
    }
   ],
   "source": [
    "# Creamos un objeto de la clase\n",
    "obj = MiPrimeraClase()\n",
    "\n",
    "# Le pedimos que eecute el metodo saluda\n",
    "obj.saluda()"
   ]
  },
  {
   "cell_type": "markdown",
   "metadata": {},
   "source": [
    "Supongamos queremos incluir un argumento al metodo saluda, por ende redefinimos la clase como:"
   ]
  },
  {
   "cell_type": "code",
   "execution_count": 3,
   "metadata": {},
   "outputs": [],
   "source": [
    "class MiPrimeraClase:\n",
    "    \n",
    "    def saluda(self, nombre):\n",
    "        print(f\"Hola {nombre}\")"
   ]
  },
  {
   "cell_type": "code",
   "execution_count": 4,
   "metadata": {},
   "outputs": [
    {
     "name": "stdout",
     "output_type": "stream",
     "text": [
      "Hola Pamela\n"
     ]
    }
   ],
   "source": [
    "# Creamos un objeto de la clase\n",
    "obj = MiPrimeraClase()\n",
    "\n",
    "# Le pedimos que eecute el metodo saluda\n",
    "obj.saluda(\"Pamela\")"
   ]
  },
  {
   "cell_type": "markdown",
   "metadata": {},
   "source": [
    "### 2- Incluyamos atributos"
   ]
  },
  {
   "cell_type": "markdown",
   "metadata": {},
   "source": [
    "Los atributos son las variables dentro de la clase. Por ejemplo, cada objeto podría tener su propio nombre.\n",
    "Transformemos el codigo anterior..."
   ]
  },
  {
   "cell_type": "code",
   "execution_count": 5,
   "metadata": {},
   "outputs": [],
   "source": [
    "class MiPrimeraClase:\n",
    "    \n",
    "    def setear_nombre(self, nombre):\n",
    "        self.nombre = nombre\n",
    "    \n",
    "    def saluda(self):\n",
    "        print(f\"Hola {self.nombre}\")"
   ]
  },
  {
   "cell_type": "code",
   "execution_count": 6,
   "metadata": {},
   "outputs": [
    {
     "name": "stdout",
     "output_type": "stream",
     "text": [
      "Hola Andrea\n"
     ]
    }
   ],
   "source": [
    "# Creamos un objeto de la clase\n",
    "obj = MiPrimeraClase()\n",
    "\n",
    "# Le entregamos el nombre que queremos usar\n",
    "obj.setear_nombre(\"Andrea\")\n",
    "\n",
    "# Le pedimos que execute el metodo saluda\n",
    "obj.saluda()"
   ]
  },
  {
   "cell_type": "markdown",
   "metadata": {},
   "source": [
    "### 3- Constructor __init__"
   ]
  },
  {
   "cell_type": "markdown",
   "metadata": {},
   "source": [
    "Usamos el constructor __init__ para añadir datos al objeto en el momento en el que lo creamos. Podriamos definir varios atributos al momento de crearlo"
   ]
  },
  {
   "cell_type": "markdown",
   "metadata": {},
   "source": [
    "Transformemos la clase anterior nuevamente usando el constructor __init__"
   ]
  },
  {
   "cell_type": "code",
   "execution_count": 7,
   "metadata": {},
   "outputs": [],
   "source": [
    "class MiPrimeraClase:\n",
    "    \n",
    "    def __init__(self, nombre, nickname):\n",
    "        self.nombre = nombre\n",
    "        self.nickname = nickname\n",
    "    \n",
    "    def saluda(self):\n",
    "        print(f\"Hola {self.nombre} o prefieres {self.nickname}?\")"
   ]
  },
  {
   "cell_type": "code",
   "execution_count": 8,
   "metadata": {},
   "outputs": [
    {
     "name": "stdout",
     "output_type": "stream",
     "text": [
      "Hola Pamela o prefieres Pame?\n"
     ]
    }
   ],
   "source": [
    "# Creamos un objeto de la clase\n",
    "obj = MiPrimeraClase(\"Pamela\", \"Pame\")\n",
    "\n",
    "# Le pedimos que execute el metodo saluda\n",
    "obj.saluda()"
   ]
  },
  {
   "cell_type": "markdown",
   "metadata": {},
   "source": [
    "### 4- Atributos de clase"
   ]
  },
  {
   "cell_type": "markdown",
   "metadata": {},
   "source": [
    "Los atributos de clase nos ayudan a definir una constante comun entre toda la clase"
   ]
  },
  {
   "cell_type": "markdown",
   "metadata": {},
   "source": [
    "Definamos una nueva clase llamada Estudiante. Los objetos de la clase son estudiantes de una institución. Un estudiante solo aprueba si su calificacion es superior a 4"
   ]
  },
  {
   "cell_type": "code",
   "execution_count": 9,
   "metadata": {},
   "outputs": [],
   "source": [
    "class Estudiante:\n",
    "    \n",
    "    MINIMO_APROBACION = 4\n",
    "    \n",
    "    def __init__(self, nombre, curso, nota_final):\n",
    "        self.nombre = nombre\n",
    "        self.curso = curso\n",
    "        self.nota_final = nota_final        \n",
    "        \n",
    "    def status_aprobacion(self):\n",
    "        if self.nota_final >= Estudiante.MINIMO_APROBACION:\n",
    "            print(f\"El estudiante {self.nombre} aprobó\")\n",
    "        else:\n",
    "            print(f\"El estudiante {self.nombre} reprobó\")"
   ]
  },
  {
   "cell_type": "code",
   "execution_count": 10,
   "metadata": {},
   "outputs": [
    {
     "name": "stdout",
     "output_type": "stream",
     "text": [
      "El estudiante Pedro reprobó\n",
      "El estudiante Juan aprobó\n"
     ]
    }
   ],
   "source": [
    "est1 = Estudiante(\"Pedro\", \"4to\", 3.2)\n",
    "est1.status_aprobacion()\n",
    "\n",
    "est2 = Estudiante(\"Juan\", \"6to\", 5.6)\n",
    "est2.status_aprobacion()"
   ]
  },
  {
   "cell_type": "markdown",
   "metadata": {},
   "source": [
    "### 5- Metodos de clase"
   ]
  },
  {
   "cell_type": "markdown",
   "metadata": {},
   "source": [
    "En una clase solo puede existir un metodo __init__"
   ]
  },
  {
   "cell_type": "markdown",
   "metadata": {},
   "source": [
    "Los metodos de clase son utiles ya que nos permiten inicializar un objeto de una manera distinta. Para definir un metodo de clase usamos @classmethod antes de crearlo. Los metodos de clase no pueden contener datos a nivel de instancia (es decir no puedes usar self.algo)"
   ]
  },
  {
   "cell_type": "markdown",
   "metadata": {},
   "source": [
    "Supongamos que los datos de los estudiantes vienen en un array"
   ]
  },
  {
   "cell_type": "code",
   "execution_count": 11,
   "metadata": {},
   "outputs": [],
   "source": [
    "datos_est3 = (\"Diego\", \"5to\", 4.8)"
   ]
  },
  {
   "cell_type": "code",
   "execution_count": 12,
   "metadata": {},
   "outputs": [],
   "source": [
    "class Estudiante:\n",
    "    \n",
    "    MINIMO_APROBACION = 4\n",
    "    \n",
    "    def __init__(self, nombre, curso, nota_final):\n",
    "        self.nombre = nombre\n",
    "        self.curso = curso\n",
    "        self.nota_final = nota_final        \n",
    "        \n",
    "    def status_aprobacion(self):\n",
    "        if self.nota_final >= Estudiante.MINIMO_APROBACION:\n",
    "            print(f\"El estudiante {self.nombre} aprobó\")\n",
    "        else:\n",
    "            print(f\"El estudiante {self.nombre} reprobó\")\n",
    "            \n",
    "    @classmethod\n",
    "    def array_define(cls, array):\n",
    "        nombre = array[0]\n",
    "        curso = array[1]\n",
    "        nota = array[2]\n",
    "        return cls(nombre, curso, nota)"
   ]
  },
  {
   "cell_type": "code",
   "execution_count": 13,
   "metadata": {},
   "outputs": [
    {
     "name": "stdout",
     "output_type": "stream",
     "text": [
      "El estudiante Diego aprobó\n"
     ]
    }
   ],
   "source": [
    "est3 = Estudiante.array_define(datos_est3)\n",
    "est3.status_aprobacion()"
   ]
  },
  {
   "cell_type": "markdown",
   "metadata": {},
   "source": [
    "### 6- Clases heredadas"
   ]
  },
  {
   "cell_type": "markdown",
   "metadata": {},
   "source": [
    "Las clases heredadas nos sirven para añadir mayor funcionalidad a las clases sin necesidad de llamar, ni intervenir a la clase padre."
   ]
  },
  {
   "cell_type": "markdown",
   "metadata": {},
   "source": [
    "Supongamos estamos creando un juego, podemos tener una clase que define al usuario base y una más especifica que nos entrega mayor funcionalidad"
   ]
  },
  {
   "cell_type": "code",
   "execution_count": 14,
   "metadata": {},
   "outputs": [],
   "source": [
    "class Usuario:\n",
    "    \n",
    "    MINIMO_PUNTOS = 0\n",
    "    \n",
    "    def __init__(self, nombre, correo_electronico, nivel=0, puntos=0):\n",
    "        self.nombre = nombre\n",
    "        self.email = correo_electronico\n",
    "        self.nivel = nivel\n",
    "        self.puntos = puntos\n",
    "        \n",
    "    def aumentar_puntos(self, aumento):\n",
    "        self.puntos = self.puntos + aumento\n",
    "        "
   ]
  },
  {
   "cell_type": "markdown",
   "metadata": {},
   "source": [
    "Ahora crearemos una clase que define al usuario con plan plus. El usuario con plan plus es un usuario pero tiene caracteristicas diferentes"
   ]
  },
  {
   "cell_type": "code",
   "execution_count": 15,
   "metadata": {},
   "outputs": [],
   "source": [
    "from datetime import datetime\n",
    "from datetime import timedelta\n",
    "\n",
    "\n",
    "class UsuarioPlus(Usuario):\n",
    "    \n",
    "    def __init__(self, nombre, correo_electronico,\n",
    "                 nivel=0, puntos=0, duracion_plan=30):\n",
    "        \n",
    "        Usuario.__init__(self, nombre, correo_electronico,\n",
    "                         nivel, puntos)\n",
    "        self.duracion_plan = duracion_plan\n",
    "        self.fecha_inicio_plan = datetime.now()\n",
    "    \n",
    "    def dias_vigencia(self):\n",
    "        \n",
    "        fecha_actual = datetime.now()\n",
    "        dias_vigentes = (self.fecha_inicio_plan +\n",
    "                         timedelta(days=self.duracion_plan) - fecha_actual)\n",
    "        # Transformamos el timedelta a segundos\n",
    "        dias_vigentes = dias_vigentes.total_seconds()\n",
    "        dias_vigentes = max(0, dias_vigentes / (60*60*24))\n",
    "        \n",
    "        return dias_vigentes\n",
    "        "
   ]
  },
  {
   "cell_type": "code",
   "execution_count": 16,
   "metadata": {},
   "outputs": [
    {
     "name": "stdout",
     "output_type": "stream",
     "text": [
      "El usuario inicio su plan el dia 2020-07-19 22:51:01.654870\n"
     ]
    },
    {
     "data": {
      "text/plain": [
       "29.999999988425923"
      ]
     },
     "execution_count": 16,
     "metadata": {},
     "output_type": "execute_result"
    }
   ],
   "source": [
    "usuario1 = UsuarioPlus(\"Nicolas\", \"example@gmail.com\")\n",
    "\n",
    "print(f\"El usuario inicio su plan el dia {usuario1.fecha_inicio_plan}\")\n",
    "\n",
    "usuario1.dias_vigencia()"
   ]
  },
  {
   "cell_type": "markdown",
   "metadata": {},
   "source": [
    "### 7- Comparar objetos de una misma clase"
   ]
  },
  {
   "cell_type": "markdown",
   "metadata": {},
   "source": [
    "¿Como podemos efectivamente identificar si dos objetos son iguales? Cuando creamos dos objetos e imprimimos su valor, obtenemos cosas distintas"
   ]
  },
  {
   "cell_type": "code",
   "execution_count": 17,
   "metadata": {},
   "outputs": [
    {
     "name": "stdout",
     "output_type": "stream",
     "text": [
      "<__main__.Usuario object at 0x0000017CE70F1AC8>\n",
      "<__main__.Usuario object at 0x0000017CE70F14A8>\n"
     ]
    }
   ],
   "source": [
    "usuario1 = Usuario(\"Nicolas\", \"example@gmail.com\")\n",
    "print(usuario1)\n",
    "usuario2 = Usuario(\"Nicolas\", \"example@gmail.com\")\n",
    "print(usuario2)"
   ]
  },
  {
   "cell_type": "markdown",
   "metadata": {},
   "source": [
    "Para poder comparar entonces necesitamos crear un método especifico en la clase"
   ]
  },
  {
   "cell_type": "markdown",
   "metadata": {},
   "source": [
    "Creamos el metodo __eq__ que nos permite definir bajo que condiciones consideraremos que dos objetos son iguales"
   ]
  },
  {
   "cell_type": "code",
   "execution_count": 18,
   "metadata": {},
   "outputs": [],
   "source": [
    "class Usuario:\n",
    "    \n",
    "    MINIMO_PUNTOS = 0\n",
    "    \n",
    "    def __init__(self, nombre, correo_electronico, nivel=0, puntos=0):\n",
    "        self.nombre = nombre\n",
    "        self.email = correo_electronico\n",
    "        self.nivel = nivel\n",
    "        self.puntos = puntos\n",
    "        \n",
    "    def aumentar_puntos(self, aumento):\n",
    "        self.puntos = self.puntos + aumento\n",
    "        \n",
    "    def __eq__(self, otro):\n",
    "        return ((self.nombre == otro.nombre) &\n",
    "                (self.email == otro.email))"
   ]
  },
  {
   "cell_type": "code",
   "execution_count": 19,
   "metadata": {},
   "outputs": [
    {
     "data": {
      "text/plain": [
       "False"
      ]
     },
     "execution_count": 19,
     "metadata": {},
     "output_type": "execute_result"
    }
   ],
   "source": [
    "usuario1 == usuario2"
   ]
  },
  {
   "cell_type": "markdown",
   "metadata": {},
   "source": [
    "Podemos agregar otras comparaciones, si es mayor (o igual), si es menor (o igual), si es distinto"
   ]
  },
  {
   "cell_type": "code",
   "execution_count": 20,
   "metadata": {},
   "outputs": [],
   "source": [
    "class Usuario:\n",
    "    \n",
    "    MINIMO_PUNTOS = 0\n",
    "    \n",
    "    def __init__(self, nombre, correo_electronico, nivel=0, puntos=0):\n",
    "        self.nombre = nombre\n",
    "        self.email = correo_electronico\n",
    "        self.nivel = nivel\n",
    "        self.puntos = puntos\n",
    "        \n",
    "    def aumentar_puntos(self, aumento):\n",
    "        self.puntos = self.puntos + aumento\n",
    "      \n",
    "    # Comprueba si dos usuarios son iguales\n",
    "    def __eq__(self, otro):\n",
    "        return ((self.nombre == otro.nombre) &\n",
    "                (self.email == otro.email))\n",
    "    \n",
    "    # Comprueba si dos usuarios son distintos\n",
    "    def __ne__(self, otro):\n",
    "        return ((self.nombre != otro.nombre) |\n",
    "                (self.email != otro.email))  \n",
    "    \n",
    "    # Comprueba si un usuario es mayor que otro\n",
    "    def __gt__(self, otro):\n",
    "        return (self.nivel > otro.nivel)  \n",
    "                \n",
    "    # Comprueba si un usuario es menor que otro\n",
    "    def __lt__(self, otro):\n",
    "        return (self.nivel < otro.nivel)  \n",
    "    \n",
    "    # Comprueba si un usuario es mayor o igual que otro\n",
    "    def __ge__(self, otro):\n",
    "        return (self.nivel >= otro.nivel)  \n",
    "    \n",
    "    # Comprueba si un usuario es menor que otro\n",
    "    def __le__(self, otro):\n",
    "        return (self.nivel < otro.nivel)  "
   ]
  },
  {
   "cell_type": "code",
   "execution_count": 21,
   "metadata": {},
   "outputs": [
    {
     "name": "stdout",
     "output_type": "stream",
     "text": [
      "True\n"
     ]
    }
   ],
   "source": [
    "usuario1 = Usuario(\"Nicolas\", \"example@gmail.com\", nivel=2)\n",
    "usuario2 = Usuario(\"Luis\", \"example@gmail.com\", nivel=3)\n",
    "print(usuario2 > usuario1)"
   ]
  },
  {
   "cell_type": "markdown",
   "metadata": {},
   "source": [
    "### 8- Representación del objeto en consola"
   ]
  },
  {
   "cell_type": "markdown",
   "metadata": {},
   "source": [
    "A veces, cuando se trabaja con objetos, es necesario poder ver una representación de estos en la consola. Por ejemplo, con los dataframe de pandas se pueden ver algunas columnas"
   ]
  },
  {
   "cell_type": "code",
   "execution_count": 22,
   "metadata": {},
   "outputs": [
    {
     "name": "stdout",
     "output_type": "stream",
     "text": [
      "  Personaje  Edad\n",
      "0      Lois    40\n",
      "1    Alfred    70\n"
     ]
    }
   ],
   "source": [
    "import pandas as pd\n",
    "\n",
    "df = pd.DataFrame([[\"Lois\", 40], [\"Alfred\", 70]],\n",
    "                  columns=[\"Personaje\", \"Edad\"])\n",
    "\n",
    "print(df)"
   ]
  },
  {
   "cell_type": "markdown",
   "metadata": {},
   "source": [
    "Efectivamente podemos ver lo que esta dentro del objeto, no asi con nuestro objeto usuario1"
   ]
  },
  {
   "cell_type": "code",
   "execution_count": 23,
   "metadata": {},
   "outputs": [
    {
     "name": "stdout",
     "output_type": "stream",
     "text": [
      "<__main__.Usuario object at 0x0000017CE7108518>\n"
     ]
    }
   ],
   "source": [
    "print(usuario1)"
   ]
  },
  {
   "cell_type": "markdown",
   "metadata": {},
   "source": [
    "¿Cómo podemos lograr una descripción más informativa?"
   ]
  },
  {
   "cell_type": "markdown",
   "metadata": {},
   "source": [
    "Podemos usar el método __str__() o el método __repr__()"
   ]
  },
  {
   "cell_type": "code",
   "execution_count": 24,
   "metadata": {},
   "outputs": [],
   "source": [
    "class Usuario:\n",
    "    \n",
    "    MINIMO_PUNTOS = 0\n",
    "    \n",
    "    def __init__(self, nombre, correo_electronico, nivel=0, puntos=0):\n",
    "        self.nombre = nombre\n",
    "        self.email = correo_electronico\n",
    "        self.nivel = nivel\n",
    "        self.puntos = puntos\n",
    "        \n",
    "    def aumentar_puntos(self, aumento):\n",
    "        self.puntos = self.puntos + aumento\n",
    "      \n",
    "    def __str__(self):\n",
    "        usuario = f\"\"\"\n",
    "        Usuario: \n",
    "            nombre: {self.nombre}\n",
    "            email: {self.email}\n",
    "        \"\"\"\n",
    "        return usuario\n",
    "    \n",
    "    def __repr__(self):\n",
    "        usuario = f\"Usuario('{self.nombre}', '{self.email}')\"\n",
    "        return usuario"
   ]
  },
  {
   "cell_type": "code",
   "execution_count": 25,
   "metadata": {},
   "outputs": [
    {
     "name": "stdout",
     "output_type": "stream",
     "text": [
      "\n",
      "        Usuario: \n",
      "            nombre: Nicolas\n",
      "            email: example@gmail.com\n",
      "        \n"
     ]
    }
   ],
   "source": [
    "usuario1 = Usuario(\"Nicolas\", \"example@gmail.com\", nivel=2)\n",
    "print(usuario1)"
   ]
  },
  {
   "cell_type": "code",
   "execution_count": 26,
   "metadata": {},
   "outputs": [
    {
     "data": {
      "text/plain": [
       "Usuario('Nicolas', 'example@gmail.com')"
      ]
     },
     "execution_count": 26,
     "metadata": {},
     "output_type": "execute_result"
    }
   ],
   "source": [
    "# Muestra una representación del objeto mas formal\n",
    "usuario1"
   ]
  },
  {
   "cell_type": "markdown",
   "metadata": {},
   "source": [
    "### 9- Excepciones"
   ]
  }
 ],
 "metadata": {
  "kernelspec": {
   "display_name": "Python 3",
   "language": "python",
   "name": "python3"
  },
  "language_info": {
   "codemirror_mode": {
    "name": "ipython",
    "version": 3
   },
   "file_extension": ".py",
   "mimetype": "text/x-python",
   "name": "python",
   "nbconvert_exporter": "python",
   "pygments_lexer": "ipython3",
   "version": "3.7.1"
  }
 },
 "nbformat": 4,
 "nbformat_minor": 2
}
