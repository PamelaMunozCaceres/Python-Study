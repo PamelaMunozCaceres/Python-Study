{
 "cells": [
  {
   "cell_type": "markdown",
   "metadata": {},
   "source": [
    "# Programación Orientada a Objetos en Python"
   ]
  },
  {
   "cell_type": "markdown",
   "metadata": {},
   "source": [
    "Una de las ventajas de escribir codigo orientado a objetos es que es reutilizable y por ende ideal para construir un framework o un set de herramietas"
   ]
  },
  {
   "cell_type": "markdown",
   "metadata": {},
   "source": [
    "### ¿Qué es una objeto?"
   ]
  },
  {
   "cell_type": "markdown",
   "metadata": {},
   "source": [
    "Los objetos son una entidad que tiene un estado y un comportamiento particular"
   ]
  },
  {
   "cell_type": "markdown",
   "metadata": {},
   "source": [
    "### ¿Qué es una clase?"
   ]
  },
  {
   "cell_type": "markdown",
   "metadata": {},
   "source": [
    "Las clases describen posibles estados de un objeto y sus distintos comportamientos"
   ]
  },
  {
   "cell_type": "markdown",
   "metadata": {},
   "source": [
    "## Manos al codigo"
   ]
  },
  {
   "cell_type": "markdown",
   "metadata": {},
   "source": [
    "### 1- Mi primera clase"
   ]
  },
  {
   "cell_type": "markdown",
   "metadata": {},
   "source": [
    "Las clases se definen con la palabra class"
   ]
  },
  {
   "cell_type": "markdown",
   "metadata": {},
   "source": [
    "Los metodos dentro de las clases llevan el argumento self SIEMPRE como primer argumento"
   ]
  },
  {
   "cell_type": "code",
   "execution_count": 7,
   "metadata": {},
   "outputs": [],
   "source": [
    "class MiPrimeraClase:\n",
    "    \n",
    "    def saluda(self):\n",
    "        print(\"Hola Mundo\")"
   ]
  },
  {
   "cell_type": "markdown",
   "metadata": {},
   "source": [
    "Para llamar a la clase simplemente usamos el nombre de esta y se lo asignamos a una variable"
   ]
  },
  {
   "cell_type": "code",
   "execution_count": 10,
   "metadata": {},
   "outputs": [
    {
     "name": "stdout",
     "output_type": "stream",
     "text": [
      "Hola Mundo\n"
     ]
    }
   ],
   "source": [
    "# Creamos un objeto de la clase\n",
    "obj = MiPrimeraClase()\n",
    "\n",
    "# Le pedimos que eecute el metodo saluda\n",
    "obj.saluda()"
   ]
  },
  {
   "cell_type": "markdown",
   "metadata": {},
   "source": [
    "Supongamos queremos incluir un argumento al metodo saluda, por ende redefinimos la clase como:"
   ]
  },
  {
   "cell_type": "code",
   "execution_count": 11,
   "metadata": {},
   "outputs": [],
   "source": [
    "class MiPrimeraClase:\n",
    "    \n",
    "    def saluda(self, nombre):\n",
    "        print(f\"Hola {nombre}\")"
   ]
  },
  {
   "cell_type": "code",
   "execution_count": 12,
   "metadata": {},
   "outputs": [
    {
     "name": "stdout",
     "output_type": "stream",
     "text": [
      "Hola Pamela\n"
     ]
    }
   ],
   "source": [
    "# Creamos un objeto de la clase\n",
    "obj = MiPrimeraClase()\n",
    "\n",
    "# Le pedimos que eecute el metodo saluda\n",
    "obj.saluda(\"Pamela\")"
   ]
  },
  {
   "cell_type": "markdown",
   "metadata": {},
   "source": [
    "### 2- Incluyamos atributos"
   ]
  },
  {
   "cell_type": "markdown",
   "metadata": {},
   "source": [
    "Los atributos son las variables dentro de la clase. Por ejemplo, cada objeto podría tener su propio nombre.\n",
    "Transformemos el codigo anterior..."
   ]
  },
  {
   "cell_type": "code",
   "execution_count": 13,
   "metadata": {},
   "outputs": [],
   "source": [
    "class MiPrimeraClase:\n",
    "    \n",
    "    def setear_nombre(self, nombre):\n",
    "        self.nombre = nombre\n",
    "    \n",
    "    def saluda(self):\n",
    "        print(f\"Hola {self.nombre}\")"
   ]
  },
  {
   "cell_type": "code",
   "execution_count": 15,
   "metadata": {},
   "outputs": [
    {
     "name": "stdout",
     "output_type": "stream",
     "text": [
      "Hola Andrea\n"
     ]
    }
   ],
   "source": [
    "# Creamos un objeto de la clase\n",
    "obj = MiPrimeraClase()\n",
    "\n",
    "# Le entregamos el nombre que queremos usar\n",
    "obj.setear_nombre(\"Andrea\")\n",
    "\n",
    "# Le pedimos que execute el metodo saluda\n",
    "obj.saluda()"
   ]
  },
  {
   "cell_type": "markdown",
   "metadata": {},
   "source": [
    "### 3- Constructor __init__"
   ]
  },
  {
   "cell_type": "markdown",
   "metadata": {},
   "source": [
    "Usamos el constructor __init__ para añadir datos al objeto en el momento en el que lo creamos. Podriamos definir varios atributos al momento de crearlo"
   ]
  },
  {
   "cell_type": "markdown",
   "metadata": {},
   "source": [
    "Transformemos la clase anterior nuevamente usando el constructor __init__"
   ]
  },
  {
   "cell_type": "code",
   "execution_count": 17,
   "metadata": {},
   "outputs": [],
   "source": [
    "class MiPrimeraClase:\n",
    "    \n",
    "    def __init__(self, nombre, nickname):\n",
    "        self.nombre = nombre\n",
    "        self.nickname = nickname\n",
    "    \n",
    "    def saluda(self):\n",
    "        print(f\"Hola {self.nombre} o prefieres {self.nickname}?\")"
   ]
  },
  {
   "cell_type": "code",
   "execution_count": 18,
   "metadata": {},
   "outputs": [
    {
     "name": "stdout",
     "output_type": "stream",
     "text": [
      "Hola Pamela o prefieres Pame?\n"
     ]
    }
   ],
   "source": [
    "# Creamos un objeto de la clase\n",
    "obj = MiPrimeraClase(\"Pamela\", \"Pame\")\n",
    "\n",
    "# Le pedimos que execute el metodo saluda\n",
    "obj.saluda()"
   ]
  },
  {
   "cell_type": "markdown",
   "metadata": {},
   "source": [
    "### 4- Atributos de clase"
   ]
  },
  {
   "cell_type": "markdown",
   "metadata": {},
   "source": [
    "Los atributos de clase nos ayudan a definir una constante comun entre toda la clase"
   ]
  },
  {
   "cell_type": "markdown",
   "metadata": {},
   "source": [
    "Definamos una nueva clase llamada Estudiante. Los objetos de la clase son estudiantes de una institución. Un estudiante solo aprueba si su calificacion es superior a 4"
   ]
  },
  {
   "cell_type": "code",
   "execution_count": 21,
   "metadata": {},
   "outputs": [],
   "source": [
    "class Estudiante:\n",
    "    \n",
    "    MINIMO_APROBACION = 4\n",
    "    \n",
    "    def __init__(self, nombre, curso, nota_final):\n",
    "        self.nombre = nombre\n",
    "        self.curso = curso\n",
    "        self.nota_final = nota_final        \n",
    "        \n",
    "    def status_aprobacion(self):\n",
    "        if self.nota_final >= Estudiante.MINIMO_APROBACION:\n",
    "            print(f\"El estudiante {self.nombre} aprobó\")\n",
    "        else:\n",
    "            print(f\"El estudiante {self.nombre} reprobó\")"
   ]
  },
  {
   "cell_type": "code",
   "execution_count": 22,
   "metadata": {},
   "outputs": [
    {
     "name": "stdout",
     "output_type": "stream",
     "text": [
      "El estudiante Pedro reprobó\n",
      "El estudiante Juan aprobó\n"
     ]
    }
   ],
   "source": [
    "est1 = Estudiante(\"Pedro\", \"4to\", 3.2)\n",
    "est1.status_aprobacion()\n",
    "\n",
    "est2 = Estudiante(\"Juan\", \"6to\", 5.6)\n",
    "est2.status_aprobacion()"
   ]
  },
  {
   "cell_type": "markdown",
   "metadata": {},
   "source": [
    "### 5- Metodos de clase"
   ]
  },
  {
   "cell_type": "markdown",
   "metadata": {},
   "source": [
    "En una clase solo puede existir un metodo __init__"
   ]
  },
  {
   "cell_type": "markdown",
   "metadata": {},
   "source": [
    "Los metodos de clase son utiles ya que nos permiten inicializar un objeto de una manera distinta. Para definir un metodo de clase usamos @classmethod antes de crearlo. Los metodos de clase no pueden contener datos a nivel de instancia (es decir no puedes usar self.algo)"
   ]
  },
  {
   "cell_type": "markdown",
   "metadata": {},
   "source": [
    "Supongamos que los datos de los estudiantes vienen en un array"
   ]
  },
  {
   "cell_type": "code",
   "execution_count": 28,
   "metadata": {},
   "outputs": [],
   "source": [
    "datos_est3 = (\"Diego\", \"5to\", 4.8)"
   ]
  },
  {
   "cell_type": "code",
   "execution_count": 26,
   "metadata": {},
   "outputs": [],
   "source": [
    "class Estudiante:\n",
    "    \n",
    "    MINIMO_APROBACION = 4\n",
    "    \n",
    "    def __init__(self, nombre, curso, nota_final):\n",
    "        self.nombre = nombre\n",
    "        self.curso = curso\n",
    "        self.nota_final = nota_final        \n",
    "        \n",
    "    def status_aprobacion(self):\n",
    "        if self.nota_final >= Estudiante.MINIMO_APROBACION:\n",
    "            print(f\"El estudiante {self.nombre} aprobó\")\n",
    "        else:\n",
    "            print(f\"El estudiante {self.nombre} reprobó\")\n",
    "            \n",
    "    @classmethod\n",
    "    def array_define(cls, array):\n",
    "        nombre = array[0]\n",
    "        curso = array[1]\n",
    "        nota = array[2]\n",
    "        return cls(nombre, curso, nota)"
   ]
  },
  {
   "cell_type": "code",
   "execution_count": 30,
   "metadata": {},
   "outputs": [
    {
     "name": "stdout",
     "output_type": "stream",
     "text": [
      "El estudiante Diego aprobó\n"
     ]
    }
   ],
   "source": [
    "est3 = Estudiante.array_define(datos_est3)\n",
    "est3.status_aprobacion()"
   ]
  },
  {
   "cell_type": "markdown",
   "metadata": {},
   "source": [
    "### 6- Clases heredadas"
   ]
  },
  {
   "cell_type": "markdown",
   "metadata": {},
   "source": [
    "Las clases heredadas nos sirven para añadir mayor funcionalidad a las clases sin necesidad de llamar, ni intervenir a la clase padre."
   ]
  }
 ],
 "metadata": {
  "kernelspec": {
   "display_name": "Python 3",
   "language": "python",
   "name": "python3"
  },
  "language_info": {
   "codemirror_mode": {
    "name": "ipython",
    "version": 3
   },
   "file_extension": ".py",
   "mimetype": "text/x-python",
   "name": "python",
   "nbconvert_exporter": "python",
   "pygments_lexer": "ipython3",
   "version": "3.7.1"
  }
 },
 "nbformat": 4,
 "nbformat_minor": 2
}
