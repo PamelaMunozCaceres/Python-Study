{
 "cells": [
  {
   "cell_type": "markdown",
   "metadata": {},
   "source": [
    "# Programación Orientada a Objetos en Python"
   ]
  },
  {
   "cell_type": "markdown",
   "metadata": {},
   "source": [
    "Una de las ventajas de escribir codigo orientado a objetos es que es reutilizable y por ende ideal para construir un framework o un set de herramietas"
   ]
  },
  {
   "cell_type": "markdown",
   "metadata": {},
   "source": [
    "### ¿Qué es una objeto?"
   ]
  },
  {
   "cell_type": "markdown",
   "metadata": {},
   "source": [
    "Los objetos son una entidad que tiene un estado y un comportamiento particular"
   ]
  },
  {
   "cell_type": "markdown",
   "metadata": {},
   "source": [
    "### ¿Qué es una clase?"
   ]
  },
  {
   "cell_type": "markdown",
   "metadata": {},
   "source": [
    "Las clases describen posibles estados de un objeto y sus distintos comportamientos"
   ]
  },
  {
   "cell_type": "markdown",
   "metadata": {},
   "source": [
    "## Manos al codigo"
   ]
  },
  {
   "cell_type": "markdown",
   "metadata": {},
   "source": [
    "### 1- Mi primera clase"
   ]
  },
  {
   "cell_type": "markdown",
   "metadata": {},
   "source": [
    "Las clases se definen con la palabra class"
   ]
  },
  {
   "cell_type": "markdown",
   "metadata": {},
   "source": [
    "Los metodos dentro de las clases llevan el argumento self SIEMPRE como primer argumento"
   ]
  },
  {
   "cell_type": "code",
   "execution_count": 7,
   "metadata": {},
   "outputs": [],
   "source": [
    "class MiPrimeraClase:\n",
    "    \n",
    "    def saluda(self):\n",
    "        print(\"Hola Mundo\")"
   ]
  },
  {
   "cell_type": "markdown",
   "metadata": {},
   "source": [
    "Para llamar a la clase simplemente usamos el nombre de esta y se lo asignamos a una variable"
   ]
  },
  {
   "cell_type": "code",
   "execution_count": 10,
   "metadata": {},
   "outputs": [
    {
     "name": "stdout",
     "output_type": "stream",
     "text": [
      "Hola Mundo\n"
     ]
    }
   ],
   "source": [
    "# Creamos un objeto de la clase\n",
    "obj = MiPrimeraClase()\n",
    "\n",
    "# Le pedimos que eecute el metodo saluda\n",
    "obj.saluda()"
   ]
  },
  {
   "cell_type": "markdown",
   "metadata": {},
   "source": [
    "Supongamos queremos incluir un argumento al metodo saluda, por ende redefinimos la clase como:"
   ]
  },
  {
   "cell_type": "code",
   "execution_count": 11,
   "metadata": {},
   "outputs": [],
   "source": [
    "class MiPrimeraClase:\n",
    "    \n",
    "    def saluda(self, nombre):\n",
    "        print(f\"Hola {nombre}\")"
   ]
  },
  {
   "cell_type": "code",
   "execution_count": 12,
   "metadata": {},
   "outputs": [
    {
     "name": "stdout",
     "output_type": "stream",
     "text": [
      "Hola Pamela\n"
     ]
    }
   ],
   "source": [
    "# Creamos un objeto de la clase\n",
    "obj = MiPrimeraClase()\n",
    "\n",
    "# Le pedimos que eecute el metodo saluda\n",
    "obj.saluda(\"Pamela\")"
   ]
  },
  {
   "cell_type": "markdown",
   "metadata": {},
   "source": [
    "### 2- Incluyamos atributos"
   ]
  },
  {
   "cell_type": "markdown",
   "metadata": {},
   "source": [
    "Los atributos son las variables dentro de la clase. Por ejemplo, cada objeto podría tener su propio nombre.\n",
    "Transformemos el codigo anterior..."
   ]
  },
  {
   "cell_type": "code",
   "execution_count": 13,
   "metadata": {},
   "outputs": [],
   "source": [
    "class MiPrimeraClase:\n",
    "    \n",
    "    def setear_nombre(self, nombre):\n",
    "        self.nombre = nombre\n",
    "    \n",
    "    def saluda(self):\n",
    "        print(f\"Hola {self.nombre}\")"
   ]
  },
  {
   "cell_type": "code",
   "execution_count": 15,
   "metadata": {},
   "outputs": [
    {
     "name": "stdout",
     "output_type": "stream",
     "text": [
      "Hola Andrea\n"
     ]
    }
   ],
   "source": [
    "# Creamos un objeto de la clase\n",
    "obj = MiPrimeraClase()\n",
    "\n",
    "# Le entregamos el nombre que queremos usar\n",
    "obj.setear_nombre(\"Andrea\")\n",
    "\n",
    "# Le pedimos que execute el metodo saluda\n",
    "obj.saluda()"
   ]
  },
  {
   "cell_type": "markdown",
   "metadata": {},
   "source": [
    "### 3- Constructor __init__"
   ]
  },
  {
   "cell_type": "markdown",
   "metadata": {},
   "source": [
    "Usamos el constructor __init__ para añadir datos al objeto en el momento en el que lo creamos. Podriamos definir varios atributos al momento de crearlo"
   ]
  },
  {
   "cell_type": "markdown",
   "metadata": {},
   "source": [
    "Transformemos la clase anterior nuevamente usando el constructor __init__"
   ]
  },
  {
   "cell_type": "code",
   "execution_count": 17,
   "metadata": {},
   "outputs": [],
   "source": [
    "class MiPrimeraClase:\n",
    "    \n",
    "    def __init__(self, nombre, nickname):\n",
    "        self.nombre = nombre\n",
    "        self.nickname = nickname\n",
    "    \n",
    "    def saluda(self):\n",
    "        print(f\"Hola {self.nombre} o prefieres {self.nickname}?\")"
   ]
  },
  {
   "cell_type": "code",
   "execution_count": 18,
   "metadata": {},
   "outputs": [
    {
     "name": "stdout",
     "output_type": "stream",
     "text": [
      "Hola Pamela o prefieres Pame?\n"
     ]
    }
   ],
   "source": [
    "# Creamos un objeto de la clase\n",
    "obj = MiPrimeraClase(\"Pamela\", \"Pame\")\n",
    "\n",
    "# Le pedimos que execute el metodo saluda\n",
    "obj.saluda()"
   ]
  },
  {
   "cell_type": "code",
   "execution_count": null,
   "metadata": {},
   "outputs": [],
   "source": []
  }
 ],
 "metadata": {
  "kernelspec": {
   "display_name": "Python 3",
   "language": "python",
   "name": "python3"
  },
  "language_info": {
   "codemirror_mode": {
    "name": "ipython",
    "version": 3
   },
   "file_extension": ".py",
   "mimetype": "text/x-python",
   "name": "python",
   "nbconvert_exporter": "python",
   "pygments_lexer": "ipython3",
   "version": "3.7.1"
  }
 },
 "nbformat": 4,
 "nbformat_minor": 2
}
